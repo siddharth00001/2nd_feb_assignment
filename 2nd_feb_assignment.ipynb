{
 "cells": [
  {
   "cell_type": "markdown",
   "id": "b518ec85-3697-48d7-a4b2-e9df726c4b17",
   "metadata": {},
   "source": [
    "## Q1"
   ]
  },
  {
   "cell_type": "markdown",
   "id": "d1998788-cd57-4d44-a0ad-4bb1023195e8",
   "metadata": {},
   "source": [
    "While loop is used when we need to run a block of code unknown times until the condition is met and for loop is used when we have to loop once over the iteratable."
   ]
  },
  {
   "cell_type": "markdown",
   "id": "2baab65d-a4ed-438d-978e-60de5ec8f446",
   "metadata": {},
   "source": [
    "## Q2"
   ]
  },
  {
   "cell_type": "code",
   "execution_count": 3,
   "id": "a96b6d7b-077c-4dc2-b3ef-bdc10fa5f116",
   "metadata": {},
   "outputs": [
    {
     "name": "stdout",
     "output_type": "stream",
     "text": [
      "55\n"
     ]
    }
   ],
   "source": [
    "su = 0\n",
    "for i in range(1,11):\n",
    "    su+=i\n",
    "print(su)"
   ]
  },
  {
   "cell_type": "code",
   "execution_count": 6,
   "id": "1d0c4d88-f769-4be0-91d8-9d864b679e37",
   "metadata": {},
   "outputs": [
    {
     "name": "stdout",
     "output_type": "stream",
     "text": [
      "55\n"
     ]
    }
   ],
   "source": [
    "li = list(range(1,11))\n",
    "su_while = 0\n",
    "while li:\n",
    "    su_while += li[0]\n",
    "    li.pop(0)\n",
    "print(su_while)"
   ]
  },
  {
   "cell_type": "markdown",
   "id": "37f7766f-2838-465c-8b1f-6ae75df92263",
   "metadata": {},
   "source": [
    "## Q3"
   ]
  },
  {
   "cell_type": "code",
   "execution_count": 18,
   "id": "739efaa9-7b35-4cf6-a2b1-33d000edd53c",
   "metadata": {},
   "outputs": [
    {
     "name": "stdin",
     "output_type": "stream",
     "text": [
      "Please enter the amount of the Electricity bill:  310\n"
     ]
    },
    {
     "name": "stdout",
     "output_type": "stream",
     "text": [
      "2250.0\n"
     ]
    }
   ],
   "source": [
    "elecUnit = int(input(\"Please enter the amount of the Electricity bill: \"))\n",
    "total_amount = 0\n",
    "if elecUnit > 300:\n",
    "    unit1 = elecUnit - 300\n",
    "    total_amount = unit1 * 20\n",
    "    total_amount = total_amount +  100 * 10 + 100*6+100*4.5\n",
    "elif elecUnit > 200 and elecUnit <= 300:\n",
    "    unit1 = elecUnit - 200\n",
    "    total_amount =  unit1 * 10 +  100*6+100*4.5\n",
    "elif elecUnit > 100 and elecUnit <= 200:\n",
    "    unit1 = elecUnit-100\n",
    "    total_amount = unit1 * 6 + 100*4.5\n",
    "else:\n",
    "    total_amount = elecUnit * 4.5\n",
    "print(total_amount)"
   ]
  },
  {
   "cell_type": "markdown",
   "id": "04e7f420-d4dc-4f55-9219-b01f82529ab9",
   "metadata": {},
   "source": [
    "## Q4"
   ]
  },
  {
   "cell_type": "code",
   "execution_count": 47,
   "id": "f56b26f3-7e8c-46f8-af44-9173e1442eca",
   "metadata": {},
   "outputs": [
    {
     "name": "stdout",
     "output_type": "stream",
     "text": [
      "[2, 4, 5, 6, 8, 10, 12, 14, 15, 16, 18, 20, 22, 24, 25, 26, 28, 30, 32, 34, 35, 36, 38, 40, 42, 44, 45, 46, 48, 50, 52, 54, 55, 56, 58, 60, 62, 64, 65, 66, 68, 70, 72, 74, 75, 76, 78, 80, 82, 84, 85, 86, 88, 90, 92, 94, 95, 96, 98, 100]\n"
     ]
    }
   ],
   "source": [
    "lis = list(range(1,101))\n",
    "divLi = []\n",
    "for x in lis:\n",
    "    if (x**3)%4 ==0 or (x**3)%5==0:\n",
    "        divLi.append(x)\n",
    "print(divLi)"
   ]
  },
  {
   "cell_type": "code",
   "execution_count": 48,
   "id": "4e29ad63-5872-4bc5-8469-93fc4c0e3924",
   "metadata": {},
   "outputs": [],
   "source": [
    "new = True\n",
    "newLi=[]\n",
    "while lis:\n",
    "    if (lis[0]**3)%4 ==0 or (lis[0]**3)%5==0:\n",
    "        newLi.append(lis[0])\n",
    "    lis.pop(0)"
   ]
  },
  {
   "cell_type": "code",
   "execution_count": 49,
   "id": "6397d05c-2aea-402e-a973-b2b2a295e806",
   "metadata": {},
   "outputs": [
    {
     "data": {
      "text/plain": [
       "True"
      ]
     },
     "execution_count": 49,
     "metadata": {},
     "output_type": "execute_result"
    }
   ],
   "source": [
    "newLi == divLi"
   ]
  },
  {
   "cell_type": "code",
   "execution_count": 50,
   "id": "dabd5bc9-1e42-498b-ac98-d987fd8dbb3e",
   "metadata": {},
   "outputs": [
    {
     "name": "stdout",
     "output_type": "stream",
     "text": [
      "[2, 4, 5, 6, 8, 10, 12, 14, 15, 16, 18, 20, 22, 24, 25, 26, 28, 30, 32, 34, 35, 36, 38, 40, 42, 44, 45, 46, 48, 50, 52, 54, 55, 56, 58, 60, 62, 64, 65, 66, 68, 70, 72, 74, 75, 76, 78, 80, 82, 84, 85, 86, 88, 90, 92, 94, 95, 96, 98, 100]\n"
     ]
    }
   ],
   "source": [
    "print(newLi)"
   ]
  },
  {
   "cell_type": "markdown",
   "id": "d9dcf758-8f69-44bf-acfe-b20ba336c4c0",
   "metadata": {},
   "source": [
    "## Q5"
   ]
  },
  {
   "cell_type": "code",
   "execution_count": 53,
   "id": "76acd402-94f0-4ac9-a82f-681bcb25e169",
   "metadata": {},
   "outputs": [],
   "source": [
    "string = \"I want to become a data scientist\"\n",
    "count=0\n",
    "for x in string.lower():\n",
    "    if x in ['a','e','i','o','u']:\n",
    "        count+=1"
   ]
  },
  {
   "cell_type": "code",
   "execution_count": 54,
   "id": "ef728c73-e030-4a15-887b-54728affd2de",
   "metadata": {},
   "outputs": [
    {
     "data": {
      "text/plain": [
       "12"
      ]
     },
     "execution_count": 54,
     "metadata": {},
     "output_type": "execute_result"
    }
   ],
   "source": [
    "count"
   ]
  },
  {
   "cell_type": "code",
   "execution_count": null,
   "id": "fe422990-1e5d-4e6e-89c8-dc043772caea",
   "metadata": {},
   "outputs": [],
   "source": []
  }
 ],
 "metadata": {
  "kernelspec": {
   "display_name": "Python 3 (ipykernel)",
   "language": "python",
   "name": "python3"
  },
  "language_info": {
   "codemirror_mode": {
    "name": "ipython",
    "version": 3
   },
   "file_extension": ".py",
   "mimetype": "text/x-python",
   "name": "python",
   "nbconvert_exporter": "python",
   "pygments_lexer": "ipython3",
   "version": "3.10.8"
  }
 },
 "nbformat": 4,
 "nbformat_minor": 5
}
